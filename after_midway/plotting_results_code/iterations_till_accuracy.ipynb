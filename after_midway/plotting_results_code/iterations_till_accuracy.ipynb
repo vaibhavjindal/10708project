{
 "cells": [
  {
   "cell_type": "code",
   "execution_count": 1,
   "metadata": {},
   "outputs": [],
   "source": [
    "import pandas as pd"
   ]
  },
  {
   "cell_type": "code",
   "execution_count": 2,
   "metadata": {},
   "outputs": [],
   "source": [
    "perf_lists_dir = \"perf_lists_final/mean/\"\n",
    "methods_list = [\"uniform\", \"entropy\", \"bald\", \"bald_generative\", \"entropy_generative\", \"bald_duplicate\", \"entropy_duplicate\", \"bald_gan\", \"entropy_gan\"]\n",
    "methods_dict = {}\n",
    "labels = {\n",
    "    \"uniform\": \"Uniform\", \n",
    "    \"bald\": \"BALD w/o DA\", \n",
    "    \"entropy\": \"Max Entropy w/o DA\", \n",
    "    \"bald_generative\": \"BALD w VAE\", \n",
    "    \"entropy_generative\": \"Max Entropy w VAE\", \n",
    "    \"bald_gan\": \"BALD w VAEGAN\",\n",
    "    \"entropy_gan\": \"Max Entropy\",\n",
    "    \"bald_duplicate\": \"BALD Duplicate\",\n",
    "    \"entropy_duplicate\": \"Max Entropy Duplicate\"\n",
    "}\n",
    "for target_acc in [90, 95]:\n",
    "    tmp = {}\n",
    "    for method in methods_list:\n",
    "        with open (perf_lists_dir + method) as f:\n",
    "            perf_list = [float(line.rstrip()) for line in f]\n",
    "        for idx, acc in enumerate(perf_list):\n",
    "            if acc*100 >= target_acc:\n",
    "                tmp[labels[method]] = idx*10\n",
    "                break\n",
    "    methods_dict[target_acc] = tmp"
   ]
  },
  {
   "cell_type": "code",
   "execution_count": 3,
   "metadata": {},
   "outputs": [
    {
     "data": {
      "text/html": [
       "<div>\n",
       "<style scoped>\n",
       "    .dataframe tbody tr th:only-of-type {\n",
       "        vertical-align: middle;\n",
       "    }\n",
       "\n",
       "    .dataframe tbody tr th {\n",
       "        vertical-align: top;\n",
       "    }\n",
       "\n",
       "    .dataframe thead th {\n",
       "        text-align: right;\n",
       "    }\n",
       "</style>\n",
       "<table border=\"1\" class=\"dataframe\">\n",
       "  <thead>\n",
       "    <tr style=\"text-align: right;\">\n",
       "      <th></th>\n",
       "      <th>BALD Duplicate</th>\n",
       "      <th>BALD w VAE</th>\n",
       "      <th>BALD w VAEGAN</th>\n",
       "      <th>BALD w/o DA</th>\n",
       "      <th>Max Entropy</th>\n",
       "      <th>Max Entropy Duplicate</th>\n",
       "      <th>Max Entropy w VAE</th>\n",
       "      <th>Max Entropy w/o DA</th>\n",
       "      <th>Uniform</th>\n",
       "    </tr>\n",
       "  </thead>\n",
       "  <tbody>\n",
       "    <tr>\n",
       "      <th>90</th>\n",
       "      <td>190</td>\n",
       "      <td>250</td>\n",
       "      <td>360</td>\n",
       "      <td>230</td>\n",
       "      <td>280</td>\n",
       "      <td>210</td>\n",
       "      <td>270</td>\n",
       "      <td>220</td>\n",
       "      <td>260</td>\n",
       "    </tr>\n",
       "    <tr>\n",
       "      <th>95</th>\n",
       "      <td>340</td>\n",
       "      <td>530</td>\n",
       "      <td>630</td>\n",
       "      <td>410</td>\n",
       "      <td>490</td>\n",
       "      <td>390</td>\n",
       "      <td>500</td>\n",
       "      <td>380</td>\n",
       "      <td>870</td>\n",
       "    </tr>\n",
       "  </tbody>\n",
       "</table>\n",
       "</div>"
      ],
      "text/plain": [
       "    BALD Duplicate  BALD w VAE  BALD w VAEGAN  BALD w/o DA  Max Entropy  \\\n",
       "90             190         250            360          230          280   \n",
       "95             340         530            630          410          490   \n",
       "\n",
       "    Max Entropy Duplicate  Max Entropy w VAE  Max Entropy w/o DA  Uniform  \n",
       "90                    210                270                 220      260  \n",
       "95                    390                500                 380      870  "
      ]
     },
     "execution_count": 3,
     "metadata": {},
     "output_type": "execute_result"
    }
   ],
   "source": [
    "pd.DataFrame.from_dict(methods_dict).transpose()"
   ]
  },
  {
   "cell_type": "code",
   "execution_count": 4,
   "metadata": {},
   "outputs": [
    {
     "data": {
      "text/plain": [
       "'\\\\begin{tabular}{lrrrrrrrrr}\\n\\\\toprule\\n{} &  BALD Duplicate &  BALD w VAE &  BALD w VAEGAN &  BALD w/o DA &  Max Entropy &  Max Entropy Duplicate &  Max Entropy w VAE &  Max Entropy w/o DA &  Uniform \\\\\\\\\\n\\\\midrule\\n90 &             190 &         250 &            360 &          230 &          280 &                    210 &                270 &                 220 &      260 \\\\\\\\\\n95 &             340 &         530 &            630 &          410 &          490 &                    390 &                500 &                 380 &      870 \\\\\\\\\\n\\\\bottomrule\\n\\\\end{tabular}\\n'"
      ]
     },
     "execution_count": 4,
     "metadata": {},
     "output_type": "execute_result"
    }
   ],
   "source": [
    "pd.DataFrame.from_dict(methods_dict).transpose().to_latex()"
   ]
  }
 ],
 "metadata": {
  "kernelspec": {
   "display_name": "Python 3",
   "language": "python",
   "name": "python3"
  },
  "language_info": {
   "codemirror_mode": {
    "name": "ipython",
    "version": 3
   },
   "file_extension": ".py",
   "mimetype": "text/x-python",
   "name": "python",
   "nbconvert_exporter": "python",
   "pygments_lexer": "ipython3",
   "version": "3.7.1"
  }
 },
 "nbformat": 4,
 "nbformat_minor": 2
}
