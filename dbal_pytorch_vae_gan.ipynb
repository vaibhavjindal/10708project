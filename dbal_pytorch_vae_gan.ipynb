{
 "cells": [
  {
   "cell_type": "markdown",
   "metadata": {},
   "source": [
    "This is an implementation of the paper Deep Bayesian Active Learning with Image Data using PyTorch and modAL. \n",
    "\n",
    "modAL is an active learning framework for Python3, designed with modularity, flexibility and extensibility in mind. Built on top of scikit-learn, it allows you to rapidly create active learning workflows with nearly complete freedom. What is more, you can easily replace parts with your custom built solutions, allowing you to design novel algorithms with ease.\n",
    "\n",
    "Since modAL only supports sklearn models, we will also use [skorch](https://skorch.readthedocs.io/en/stable/), a scikit-learn compatible neural network library that wraps PyTorch. "
   ]
  },
  {
   "cell_type": "code",
   "execution_count": 1,
   "metadata": {},
   "outputs": [
    {
     "name": "stderr",
     "output_type": "stream",
     "text": [
      "C:\\Users\\saumy\\Anaconda3\\lib\\site-packages\\torchvision\\io\\image.py:11: UserWarning: Failed to load image Python extension: [WinError 126] The specified module could not be found\n",
      "  warn(f\"Failed to load image Python extension: {e}\")\n"
     ]
    }
   ],
   "source": [
    "import torch\n",
    "import numpy as np\n",
    "from torch import nn\n",
    "from torch.nn import functional as F\n",
    "from torch.utils.data import DataLoader\n",
    "from torchvision.transforms import ToTensor\n",
    "from torchvision.datasets import MNIST\n",
    "from skorch import NeuralNetClassifier\n",
    "from modAL.models import ActiveLearner\n",
    "from torch.autograd import Variable\n",
    "\n",
    "from VAE import VAE"
   ]
  },
  {
   "cell_type": "markdown",
   "metadata": {},
   "source": [
    "### architecture of the network we will be using\n",
    "\n",
    "We will use the architecture described in the paper."
   ]
  },
  {
   "cell_type": "code",
   "execution_count": 2,
   "metadata": {},
   "outputs": [],
   "source": [
    "class CNN(nn.Module):\n",
    "    def __init__(self,):\n",
    "        super(CNN, self).__init__()\n",
    "        self.convs = nn.Sequential(\n",
    "                                nn.Conv2d(1,32,4),\n",
    "                                nn.ReLU(),\n",
    "                                nn.Conv2d(32,32,4),\n",
    "                                nn.ReLU(),\n",
    "                                nn.MaxPool2d(2),\n",
    "                                nn.Dropout(0.25)\n",
    "        )\n",
    "        self.fcs = nn.Sequential(\n",
    "                                nn.Linear(11*11*32,128),\n",
    "                                nn.ReLU(),\n",
    "                                nn.Dropout(0.5),\n",
    "                                nn.Linear(128,10),\n",
    "        )\n",
    "\n",
    "    def forward(self, x):\n",
    "        out = x\n",
    "        out = self.convs(out)\n",
    "        out = out.view(-1,11*11*32)\n",
    "        out = self.fcs(out)\n",
    "        return out"
   ]
  },
  {
   "cell_type": "markdown",
   "metadata": {},
   "source": [
    "### read training data"
   ]
  },
  {
   "cell_type": "code",
   "execution_count": 3,
   "metadata": {},
   "outputs": [],
   "source": [
    "mnist_train = MNIST('.', train=True, download=True, transform=ToTensor())\n",
    "mnist_test  = MNIST('.', train=False,download=True, transform=ToTensor())\n",
    "traindataloader = DataLoader(mnist_train, shuffle=True, batch_size=60000)\n",
    "testdataloader  = DataLoader(mnist_test , shuffle=True, batch_size=10000)\n",
    "X_train, y_train = next(iter(traindataloader))\n",
    "X_test , y_test  = next(iter(testdataloader))\n",
    "X_train, y_train = X_train.detach().cpu().numpy(), y_train.detach().cpu().numpy()\n",
    "X_test, y_test = X_test.detach().cpu().numpy(), y_test.detach().cpu().numpy()"
   ]
  },
  {
   "cell_type": "markdown",
   "metadata": {},
   "source": [
    "### preprocessing"
   ]
  },
  {
   "cell_type": "code",
   "execution_count": 4,
   "metadata": {},
   "outputs": [],
   "source": [
    "X_train = X_train.reshape(60000, 1, 28, 28)\n",
    "X_test = X_test.reshape(10000, 1, 28, 28)"
   ]
  },
  {
   "cell_type": "markdown",
   "metadata": {},
   "source": [
    "### initial labelled data\n",
    "We initialize the labelled set with 20 balanced randomly sampled examples"
   ]
  },
  {
   "cell_type": "code",
   "execution_count": 5,
   "metadata": {},
   "outputs": [],
   "source": [
    "initial_idx = np.array([],dtype=int)\n",
    "for i in range(10):\n",
    "    idx = np.random.choice(np.where(y_train==i)[0], size=2, replace=False)\n",
    "    initial_idx = np.concatenate((initial_idx, idx))\n",
    "\n",
    "X_initial = X_train[initial_idx]\n",
    "y_initial = y_train[initial_idx]"
   ]
  },
  {
   "cell_type": "markdown",
   "metadata": {},
   "source": [
    "### initial unlabelled pool"
   ]
  },
  {
   "cell_type": "code",
   "execution_count": 6,
   "metadata": {},
   "outputs": [],
   "source": [
    "X_pool = np.delete(X_train, initial_idx, axis=0)\n",
    "y_pool = np.delete(y_train, initial_idx, axis=0)"
   ]
  },
  {
   "cell_type": "markdown",
   "metadata": {},
   "source": [
    "## Query Strategies"
   ]
  },
  {
   "cell_type": "markdown",
   "metadata": {},
   "source": [
    "### Uniform\n",
    "All the acquisition function we will use will be compared to the uniform acquisition function $\\mathbb{U}_{[0,1]}$ which will be our baseline that we would like to beat."
   ]
  },
  {
   "cell_type": "code",
   "execution_count": 7,
   "metadata": {},
   "outputs": [],
   "source": [
    "def uniform(learner, X, n_instances=1):\n",
    "    query_idx = np.random.choice(range(len(X)), size=n_instances, replace=False)\n",
    "    return query_idx, X[query_idx]"
   ]
  },
  {
   "cell_type": "markdown",
   "metadata": {},
   "source": [
    "### Entropy\n",
    "Our first acquisition function is the entropy:\n",
    "$$ \\mathbb{H} = - \\sum_{c} p_c \\log(p_c)$$\n",
    "where $p_c$ is the probability predicted for class c. This is approximated by:\n",
    "\\begin{align}\n",
    "p_c &= \\frac{1}{T} \\sum_t p_{c}^{(t)} \n",
    "\\end{align}\n",
    "where $p_{c}^{t}$ is the probability predicted for class c at the t th feedforward pass."
   ]
  },
  {
   "cell_type": "code",
   "execution_count": 8,
   "metadata": {},
   "outputs": [],
   "source": [
    "def max_entropy(learner, X, n_instances=1, T=100):\n",
    "    random_subset = np.random.choice(range(len(X)), size=2000, replace=False)\n",
    "    with torch.no_grad():\n",
    "        outputs = np.stack([torch.softmax(learner.estimator.forward(X[random_subset], training=True),dim=-1).cpu().numpy()\n",
    "                            for t in range(100)])\n",
    "    pc = outputs.mean(axis=0)\n",
    "    acquisition = (-pc*np.log(pc + 1e-10)).sum(axis=-1)\n",
    "    idx = (-acquisition).argsort()[:n_instances]\n",
    "    query_idx = random_subset[idx]\n",
    "    return query_idx, X[query_idx]"
   ]
  },
  {
   "cell_type": "code",
   "execution_count": 9,
   "metadata": {},
   "outputs": [],
   "source": [
    "def bald(learner, X, n_instances=1, T=100):\n",
    "    random_subset = np.random.choice(range(len(X)), size=2000, replace=False)\n",
    "    with torch.no_grad():\n",
    "        outputs = np.stack([torch.softmax(learner.estimator.forward(X[random_subset], training=True),dim=-1).cpu().numpy()\n",
    "                            for t in range(100)])\n",
    "    pc = outputs.mean(axis=0)\n",
    "    H   = (-pc*np.log(pc + 1e-10)).sum(axis=-1)\n",
    "    E_H = - np.mean(np.sum(outputs * np.log(outputs + 1e-10), axis=-1), axis=0)  # [batch size]\n",
    "    acquisition = H - E_H\n",
    "    idx = (-acquisition).argsort()[:n_instances]\n",
    "    query_idx = random_subset[idx]\n",
    "    return query_idx, X[query_idx]    "
   ]
  },
  {
   "cell_type": "code",
   "execution_count": 10,
   "metadata": {},
   "outputs": [],
   "source": [
    "def save_list(input_list, name):\n",
    "    with open(\"perf_lists0/\" + name, 'w') as f:\n",
    "        for val in input_list:\n",
    "            f.write(\"%s\\n\" % val)"
   ]
  },
  {
   "cell_type": "markdown",
   "metadata": {},
   "source": [
    "### Active Learning Procedure"
   ]
  },
  {
   "cell_type": "code",
   "execution_count": 11,
   "metadata": {},
   "outputs": [],
   "source": [
    "def active_learning_procedure_generative(query_strategy,\n",
    "                              X_test,\n",
    "                              y_test,\n",
    "                              X_pool,\n",
    "                              y_pool,\n",
    "                              X_initial,\n",
    "                              y_initial,\n",
    "                              estimator,\n",
    "                              n_queries=100,\n",
    "                              n_instances=10):\n",
    "    \n",
    "    enc  = torch.load('./checkpoints/enc.pt', map_location=torch.device('cuda'))\n",
    "    dec  = torch.load('./checkpoints/dec.pt', map_location=torch.device('cuda'))\n",
    "    disc = torch.load('./checkpoints/disc.pt', map_location=torch.device('cuda'))\n",
    "    \n",
    "    def sample(mu, logvar):\n",
    "        std = torch.exp(0.5*logvar)\n",
    "        rand_z_score = torch.randn_like(std)\n",
    "        return mu + rand_z_score*std\n",
    "    \n",
    "    def vaeGanNewSampleGenerator(images):\n",
    "        images = Variable(images)\n",
    "        mu, logvar = enc(images)\n",
    "        z = sample(mu, logvar)\n",
    "        reconstructions = dec(z)\n",
    "        reconstructions = reconstructions.reshape(-1, 1, 28, 28)\n",
    "        return reconstructions\n",
    "\n",
    "    learner = ActiveLearner(estimator=estimator,\n",
    "                            X_training=X_initial,\n",
    "                            y_training=y_initial,\n",
    "                            query_strategy=query_strategy,\n",
    "                           )\n",
    "    perf_hist = [learner.score(X_test, y_test)]\n",
    "    for index in range(n_queries):\n",
    "        query_idx, query_instance = learner.query(X_pool, n_instances)\n",
    "        \n",
    "        new_samples = vaeGanNewSampleGenerator(torch.tensor(X_pool[query_idx]).to(torch.device(\"cuda\")))\n",
    "        new_samples = new_samples.detach().cpu().numpy()\n",
    "        new_samples = np.concatenate((new_samples, X_pool[query_idx]))\n",
    "        new_labels = np.concatenate((y_pool[query_idx], y_pool[query_idx]))\n",
    "        learner.teach(new_samples, new_labels)\n",
    "        \n",
    "        X_pool = np.delete(X_pool, query_idx, axis=0)\n",
    "        y_pool = np.delete(y_pool, query_idx, axis=0)\n",
    "        model_accuracy = learner.score(X_test, y_test)\n",
    "        print('Accuracy after query {n}: {acc:0.4f}'.format(n=index + 1, acc=model_accuracy))\n",
    "        perf_hist.append(model_accuracy)\n",
    "    return perf_hist"
   ]
  },
  {
   "cell_type": "code",
   "execution_count": 12,
   "metadata": {},
   "outputs": [
    {
     "name": "stderr",
     "output_type": "stream",
     "text": [
      "C:\\Users\\saumy\\Anaconda3\\lib\\site-packages\\torch\\serialization.py:671: SourceChangeWarning: source code of class 'torch.nn.modules.linear.Linear' has changed. you can retrieve the original source code by accessing the object's source attribute or set `torch.nn.Module.dump_patches = True` and use the patch tool to revert the changes.\n",
      "  warnings.warn(msg, SourceChangeWarning)\n",
      "C:\\Users\\saumy\\Anaconda3\\lib\\site-packages\\torch\\serialization.py:671: SourceChangeWarning: source code of class 'torch.nn.modules.activation.Sigmoid' has changed. you can retrieve the original source code by accessing the object's source attribute or set `torch.nn.Module.dump_patches = True` and use the patch tool to revert the changes.\n",
      "  warnings.warn(msg, SourceChangeWarning)\n"
     ]
    },
    {
     "name": "stdout",
     "output_type": "stream",
     "text": [
      "Accuracy after query 1: 0.5906\n",
      "Accuracy after query 2: 0.5887\n",
      "Accuracy after query 3: 0.5968\n",
      "Accuracy after query 4: 0.6089\n",
      "Accuracy after query 5: 0.6677\n",
      "Accuracy after query 6: 0.6494\n",
      "Accuracy after query 7: 0.6752\n",
      "Accuracy after query 8: 0.6691\n",
      "Accuracy after query 9: 0.6893\n",
      "Accuracy after query 10: 0.7631\n",
      "Accuracy after query 11: 0.7265\n",
      "Accuracy after query 12: 0.7747\n",
      "Accuracy after query 13: 0.7785\n",
      "Accuracy after query 14: 0.7744\n",
      "Accuracy after query 15: 0.8104\n",
      "Accuracy after query 16: 0.8043\n",
      "Accuracy after query 17: 0.8134\n",
      "Accuracy after query 18: 0.8162\n",
      "Accuracy after query 19: 0.8281\n",
      "Accuracy after query 20: 0.8345\n",
      "Accuracy after query 21: 0.8516\n",
      "Accuracy after query 22: 0.8541\n",
      "Accuracy after query 23: 0.8507\n",
      "Accuracy after query 24: 0.8585\n",
      "Accuracy after query 25: 0.8728\n",
      "Accuracy after query 26: 0.8643\n",
      "Accuracy after query 27: 0.8673\n",
      "Accuracy after query 28: 0.8889\n",
      "Accuracy after query 29: 0.8809\n",
      "Accuracy after query 30: 0.8873\n",
      "Accuracy after query 31: 0.8673\n",
      "Accuracy after query 32: 0.8901\n",
      "Accuracy after query 33: 0.8765\n",
      "Accuracy after query 34: 0.8823\n",
      "Accuracy after query 35: 0.9011\n",
      "Accuracy after query 36: 0.8998\n",
      "Accuracy after query 37: 0.9048\n",
      "Accuracy after query 38: 0.8935\n",
      "Accuracy after query 39: 0.8936\n",
      "Accuracy after query 40: 0.8886\n",
      "Accuracy after query 41: 0.9052\n",
      "Accuracy after query 42: 0.8987\n",
      "Accuracy after query 43: 0.9080\n",
      "Accuracy after query 44: 0.9036\n",
      "Accuracy after query 45: 0.8935\n",
      "Accuracy after query 46: 0.9032\n",
      "Accuracy after query 47: 0.8888\n",
      "Accuracy after query 48: 0.9177\n",
      "Accuracy after query 49: 0.9065\n",
      "Accuracy after query 50: 0.8945\n",
      "Accuracy after query 51: 0.8904\n",
      "Accuracy after query 52: 0.9218\n",
      "Accuracy after query 53: 0.9190\n",
      "Accuracy after query 54: 0.9137\n",
      "Accuracy after query 55: 0.9303\n",
      "Accuracy after query 56: 0.9357\n",
      "Accuracy after query 57: 0.9236\n",
      "Accuracy after query 58: 0.9241\n",
      "Accuracy after query 59: 0.9209\n",
      "Accuracy after query 60: 0.9414\n",
      "Accuracy after query 61: 0.9335\n",
      "Accuracy after query 62: 0.9298\n",
      "Accuracy after query 63: 0.9343\n",
      "Accuracy after query 64: 0.9401\n",
      "Accuracy after query 65: 0.9423\n",
      "Accuracy after query 66: 0.9345\n",
      "Accuracy after query 67: 0.9482\n",
      "Accuracy after query 68: 0.9240\n",
      "Accuracy after query 69: 0.9395\n",
      "Accuracy after query 70: 0.9424\n",
      "Accuracy after query 71: 0.9350\n",
      "Accuracy after query 72: 0.9508\n",
      "Accuracy after query 73: 0.9442\n",
      "Accuracy after query 74: 0.9430\n",
      "Accuracy after query 75: 0.9587\n",
      "Accuracy after query 76: 0.9485\n",
      "Accuracy after query 77: 0.9385\n",
      "Accuracy after query 78: 0.9504\n",
      "Accuracy after query 79: 0.9508\n",
      "Accuracy after query 80: 0.9612\n",
      "Accuracy after query 81: 0.9645\n",
      "Accuracy after query 82: 0.9412\n",
      "Accuracy after query 83: 0.9625\n",
      "Accuracy after query 84: 0.9534\n",
      "Accuracy after query 85: 0.9549\n",
      "Accuracy after query 86: 0.9612\n",
      "Accuracy after query 87: 0.9630\n",
      "Accuracy after query 88: 0.9593\n",
      "Accuracy after query 89: 0.9643\n",
      "Accuracy after query 90: 0.9581\n",
      "Accuracy after query 91: 0.9614\n",
      "Accuracy after query 92: 0.9626\n",
      "Accuracy after query 93: 0.9582\n",
      "Accuracy after query 94: 0.9615\n",
      "Accuracy after query 95: 0.9680\n",
      "Accuracy after query 96: 0.9670\n",
      "Accuracy after query 97: 0.9674\n",
      "Accuracy after query 98: 0.9646\n",
      "Accuracy after query 99: 0.9689\n",
      "Accuracy after query 100: 0.9659\n"
     ]
    }
   ],
   "source": [
    "device = \"cuda\" if torch.cuda.is_available() else \"cpu\"\n",
    "estimator = NeuralNetClassifier(CNN,\n",
    "                                max_epochs=50,\n",
    "                                batch_size=128,\n",
    "                                lr=0.001,\n",
    "                                optimizer=torch.optim.Adam,\n",
    "                                criterion=torch.nn.CrossEntropyLoss,\n",
    "                                train_split=None,\n",
    "                                verbose=0,\n",
    "                                device=device)\n",
    "bald_gan_std0_perf_hist = active_learning_procedure_generative(bald,\n",
    "                                           X_test,\n",
    "                                           y_test,\n",
    "                                           X_pool,\n",
    "                                           y_pool,\n",
    "                                           X_initial,\n",
    "                                           y_initial,\n",
    "                                           estimator,)\n",
    "save_list(bald_gan_std0_perf_hist, \"bald_gan_std0_perf_hist\")"
   ]
  },
  {
   "cell_type": "code",
   "execution_count": null,
   "metadata": {},
   "outputs": [
    {
     "name": "stderr",
     "output_type": "stream",
     "text": [
      "C:\\Users\\saumy\\Anaconda3\\lib\\site-packages\\torch\\serialization.py:671: SourceChangeWarning: source code of class 'torch.nn.modules.linear.Linear' has changed. you can retrieve the original source code by accessing the object's source attribute or set `torch.nn.Module.dump_patches = True` and use the patch tool to revert the changes.\n",
      "  warnings.warn(msg, SourceChangeWarning)\n",
      "C:\\Users\\saumy\\Anaconda3\\lib\\site-packages\\torch\\serialization.py:671: SourceChangeWarning: source code of class 'torch.nn.modules.activation.Sigmoid' has changed. you can retrieve the original source code by accessing the object's source attribute or set `torch.nn.Module.dump_patches = True` and use the patch tool to revert the changes.\n",
      "  warnings.warn(msg, SourceChangeWarning)\n"
     ]
    },
    {
     "name": "stdout",
     "output_type": "stream",
     "text": [
      "Accuracy after query 1: 0.6143\n",
      "Accuracy after query 2: 0.6402\n",
      "Accuracy after query 3: 0.6397\n",
      "Accuracy after query 4: 0.6014\n",
      "Accuracy after query 5: 0.6391\n",
      "Accuracy after query 6: 0.6841\n",
      "Accuracy after query 7: 0.6896\n",
      "Accuracy after query 8: 0.7289\n",
      "Accuracy after query 9: 0.7140\n",
      "Accuracy after query 10: 0.7216\n",
      "Accuracy after query 11: 0.7533\n",
      "Accuracy after query 12: 0.7862\n",
      "Accuracy after query 13: 0.7803\n",
      "Accuracy after query 14: 0.7703\n",
      "Accuracy after query 15: 0.8221\n",
      "Accuracy after query 16: 0.8161\n",
      "Accuracy after query 17: 0.8508\n",
      "Accuracy after query 18: 0.8635\n",
      "Accuracy after query 19: 0.8579\n",
      "Accuracy after query 20: 0.8608\n",
      "Accuracy after query 21: 0.8768\n",
      "Accuracy after query 22: 0.8733\n",
      "Accuracy after query 23: 0.8833\n",
      "Accuracy after query 24: 0.9051\n",
      "Accuracy after query 25: 0.8845\n",
      "Accuracy after query 26: 0.8952\n",
      "Accuracy after query 27: 0.8818\n",
      "Accuracy after query 28: 0.8882\n",
      "Accuracy after query 29: 0.8978\n",
      "Accuracy after query 30: 0.9102\n",
      "Accuracy after query 31: 0.9167\n",
      "Accuracy after query 32: 0.9294\n",
      "Accuracy after query 33: 0.9221\n",
      "Accuracy after query 34: 0.9211\n",
      "Accuracy after query 35: 0.9318\n",
      "Accuracy after query 36: 0.9305\n",
      "Accuracy after query 37: 0.9094\n",
      "Accuracy after query 38: 0.9319\n",
      "Accuracy after query 39: 0.9269\n"
     ]
    }
   ],
   "source": [
    "device = \"cuda\" if torch.cuda.is_available() else \"cpu\"\n",
    "estimator = NeuralNetClassifier(CNN,\n",
    "                                max_epochs=50,\n",
    "                                batch_size=128,\n",
    "                                lr=0.001,\n",
    "                                optimizer=torch.optim.Adam,\n",
    "                                criterion=torch.nn.CrossEntropyLoss,\n",
    "                                train_split=None,\n",
    "                                verbose=0,\n",
    "                                device=device)\n",
    "entropy_gan_perf_hist = active_learning_procedure_generative(max_entropy,\n",
    "                                           X_test,\n",
    "                                           y_test,\n",
    "                                           X_pool,\n",
    "                                           y_pool,\n",
    "                                           X_initial,\n",
    "                                           y_initial,\n",
    "                                           estimator,)\n",
    "save_list(entropy_gan_perf_hist, \"entropy_gan_perf_hist\")"
   ]
  },
  {
   "cell_type": "code",
   "execution_count": null,
   "metadata": {},
   "outputs": [],
   "source": []
  }
 ],
 "metadata": {
  "kernelspec": {
   "display_name": "Python 3",
   "language": "python",
   "name": "python3"
  },
  "language_info": {
   "codemirror_mode": {
    "name": "ipython",
    "version": 3
   },
   "file_extension": ".py",
   "mimetype": "text/x-python",
   "name": "python",
   "nbconvert_exporter": "python",
   "pygments_lexer": "ipython3",
   "version": "3.7.1"
  }
 },
 "nbformat": 4,
 "nbformat_minor": 2
}
