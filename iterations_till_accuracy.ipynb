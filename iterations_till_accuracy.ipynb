{
 "cells": [
  {
   "cell_type": "code",
   "execution_count": 4,
   "metadata": {},
   "outputs": [],
   "source": [
    "import pandas as pd"
   ]
  },
  {
   "cell_type": "code",
   "execution_count": 2,
   "metadata": {},
   "outputs": [],
   "source": [
    "perf_lists_dir = \"perf_lists_final/mean/\"\n",
    "methods_list = [\"uniform\", \"entropy\", \"bald\", \"bald_generative\", \"entropy_generative\", \"bald_duplicate\", \"entropy_duplicate\", \"bald_gan\"]\n",
    "methods_dict = {}\n",
    "for target_acc in [90, 95]:\n",
    "    tmp = {}\n",
    "    for method in methods_list:\n",
    "        with open (perf_lists_dir + method) as f:\n",
    "            perf_list = [float(line.rstrip()) for line in f]\n",
    "        for idx, acc in enumerate(perf_list):\n",
    "            if acc*100 >= target_acc:\n",
    "                tmp[method] = idx*10\n",
    "                break\n",
    "    methods_dict[target_acc] = tmp"
   ]
  },
  {
   "cell_type": "code",
   "execution_count": 6,
   "metadata": {},
   "outputs": [
    {
     "data": {
      "text/plain": [
       "'\\\\begin{tabular}{lrr}\\n\\\\toprule\\n{} &   90 &   95 \\\\\\\\\\n\\\\midrule\\nbald               &  230 &  410 \\\\\\\\\\nbald\\\\_duplicate     &  190 &  340 \\\\\\\\\\nbald\\\\_gan           &  360 &  630 \\\\\\\\\\nbald\\\\_generative    &  250 &  530 \\\\\\\\\\nentropy            &  220 &  380 \\\\\\\\\\nentropy\\\\_duplicate  &  210 &  390 \\\\\\\\\\nentropy\\\\_generative &  270 &  500 \\\\\\\\\\nuniform            &  260 &  870 \\\\\\\\\\n\\\\bottomrule\\n\\\\end{tabular}\\n'"
      ]
     },
     "execution_count": 6,
     "metadata": {},
     "output_type": "execute_result"
    }
   ],
   "source": [
    "pd.DataFrame.from_dict(methods_dict).to_latex()"
   ]
  }
 ],
 "metadata": {
  "kernelspec": {
   "display_name": "Python 3",
   "language": "python",
   "name": "python3"
  },
  "language_info": {
   "codemirror_mode": {
    "name": "ipython",
    "version": 3
   },
   "file_extension": ".py",
   "mimetype": "text/x-python",
   "name": "python",
   "nbconvert_exporter": "python",
   "pygments_lexer": "ipython3",
   "version": "3.7.1"
  }
 },
 "nbformat": 4,
 "nbformat_minor": 2
}
