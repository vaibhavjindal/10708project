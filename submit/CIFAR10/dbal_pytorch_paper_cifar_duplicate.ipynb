{
  "cells": [
    {
      "cell_type": "markdown",
      "metadata": {
        "id": "podfwg3rfvhv"
      },
      "source": [
        "This is an implementation of the paper Deep Bayesian Active Learning with Image Data using PyTorch and modAL. \n",
        "\n",
        "modAL is an active learning framework for Python3, designed with modularity, flexibility and extensibility in mind. Built on top of scikit-learn, it allows you to rapidly create active learning workflows with nearly complete freedom. What is more, you can easily replace parts with your custom built solutions, allowing you to design novel algorithms with ease.\n",
        "\n",
        "Since modAL only supports sklearn models, we will also use [skorch](https://skorch.readthedocs.io/en/stable/), a scikit-learn compatible neural network library that wraps PyTorch. "
      ]
    },
    {
      "cell_type": "code",
      "execution_count": null,
      "metadata": {
        "id": "8Awqn86kiZCg"
      },
      "outputs": [],
      "source": [
        "!mkdir perf_lists_cifar_duplicate"
      ]
    },
    {
      "cell_type": "code",
      "execution_count": null,
      "metadata": {
        "colab": {
          "base_uri": "https://localhost:8080/"
        },
        "id": "nMrj8XORi8S-",
        "outputId": "e1c5a59d-6fe8-4c01-84e3-4193a04c5e73"
      },
      "outputs": [
        {
          "output_type": "stream",
          "name": "stdout",
          "text": [
            "Collecting skorch\n",
            "  Downloading skorch-0.11.0-py3-none-any.whl (155 kB)\n",
            "\u001b[?25l\r\u001b[K     |██▏                             | 10 kB 22.8 MB/s eta 0:00:01\r\u001b[K     |████▎                           | 20 kB 26.6 MB/s eta 0:00:01\r\u001b[K     |██████▍                         | 30 kB 20.1 MB/s eta 0:00:01\r\u001b[K     |████████▌                       | 40 kB 11.7 MB/s eta 0:00:01\r\u001b[K     |██████████▋                     | 51 kB 5.6 MB/s eta 0:00:01\r\u001b[K     |████████████▊                   | 61 kB 6.6 MB/s eta 0:00:01\r\u001b[K     |██████████████▉                 | 71 kB 4.9 MB/s eta 0:00:01\r\u001b[K     |█████████████████               | 81 kB 5.1 MB/s eta 0:00:01\r\u001b[K     |███████████████████             | 92 kB 5.6 MB/s eta 0:00:01\r\u001b[K     |█████████████████████▏          | 102 kB 6.2 MB/s eta 0:00:01\r\u001b[K     |███████████████████████▎        | 112 kB 6.2 MB/s eta 0:00:01\r\u001b[K     |█████████████████████████▍      | 122 kB 6.2 MB/s eta 0:00:01\r\u001b[K     |███████████████████████████▌    | 133 kB 6.2 MB/s eta 0:00:01\r\u001b[K     |█████████████████████████████▋  | 143 kB 6.2 MB/s eta 0:00:01\r\u001b[K     |███████████████████████████████▊| 153 kB 6.2 MB/s eta 0:00:01\r\u001b[K     |████████████████████████████████| 155 kB 6.2 MB/s \n",
            "\u001b[?25hRequirement already satisfied: tqdm>=4.14.0 in /usr/local/lib/python3.7/dist-packages (from skorch) (4.64.0)\n",
            "Requirement already satisfied: numpy>=1.13.3 in /usr/local/lib/python3.7/dist-packages (from skorch) (1.21.6)\n",
            "Requirement already satisfied: scikit-learn>=0.19.1 in /usr/local/lib/python3.7/dist-packages (from skorch) (1.0.2)\n",
            "Requirement already satisfied: scipy>=1.1.0 in /usr/local/lib/python3.7/dist-packages (from skorch) (1.4.1)\n",
            "Requirement already satisfied: tabulate>=0.7.7 in /usr/local/lib/python3.7/dist-packages (from skorch) (0.8.9)\n",
            "Requirement already satisfied: threadpoolctl>=2.0.0 in /usr/local/lib/python3.7/dist-packages (from scikit-learn>=0.19.1->skorch) (3.1.0)\n",
            "Requirement already satisfied: joblib>=0.11 in /usr/local/lib/python3.7/dist-packages (from scikit-learn>=0.19.1->skorch) (1.1.0)\n",
            "Installing collected packages: skorch\n",
            "Successfully installed skorch-0.11.0\n",
            "Collecting modAL\n",
            "  Downloading modAL-0.4.1-py3-none-any.whl (27 kB)\n",
            "Requirement already satisfied: scipy>=0.18 in /usr/local/lib/python3.7/dist-packages (from modAL) (1.4.1)\n",
            "Requirement already satisfied: scikit-learn>=0.18 in /usr/local/lib/python3.7/dist-packages (from modAL) (1.0.2)\n",
            "Requirement already satisfied: pandas>=1.1.0 in /usr/local/lib/python3.7/dist-packages (from modAL) (1.3.5)\n",
            "Requirement already satisfied: numpy>=1.13 in /usr/local/lib/python3.7/dist-packages (from modAL) (1.21.6)\n",
            "Requirement already satisfied: python-dateutil>=2.7.3 in /usr/local/lib/python3.7/dist-packages (from pandas>=1.1.0->modAL) (2.8.2)\n",
            "Requirement already satisfied: pytz>=2017.3 in /usr/local/lib/python3.7/dist-packages (from pandas>=1.1.0->modAL) (2022.1)\n",
            "Requirement already satisfied: six>=1.5 in /usr/local/lib/python3.7/dist-packages (from python-dateutil>=2.7.3->pandas>=1.1.0->modAL) (1.15.0)\n",
            "Requirement already satisfied: joblib>=0.11 in /usr/local/lib/python3.7/dist-packages (from scikit-learn>=0.18->modAL) (1.1.0)\n",
            "Requirement already satisfied: threadpoolctl>=2.0.0 in /usr/local/lib/python3.7/dist-packages (from scikit-learn>=0.18->modAL) (3.1.0)\n",
            "Installing collected packages: modAL\n",
            "Successfully installed modAL-0.4.1\n"
          ]
        }
      ],
      "source": [
        "!pip install -U skorch\n",
        "!pip install modAL"
      ]
    },
    {
      "cell_type": "code",
      "execution_count": null,
      "metadata": {
        "id": "dkBpar9Ffvh2"
      },
      "outputs": [],
      "source": [
        "import torch\n",
        "import numpy as np\n",
        "from torch import nn\n",
        "from torch.nn import functional as F\n",
        "from torch.utils.data import DataLoader\n",
        "from torchvision.transforms import ToTensor\n",
        "from torchvision.datasets import CIFAR10\n",
        "from skorch import NeuralNetClassifier\n",
        "from modAL.models import ActiveLearner\n",
        "from torchvision import transforms\n",
        "# from VAE import VAE"
      ]
    },
    {
      "cell_type": "markdown",
      "metadata": {
        "id": "zJS_vrlWfvh4"
      },
      "source": [
        "### architecture of the network we will be using\n",
        "\n",
        "We will use the architecture described in the paper."
      ]
    },
    {
      "cell_type": "code",
      "execution_count": null,
      "metadata": {
        "id": "LdBnvn-Wfvh5"
      },
      "outputs": [],
      "source": [
        "# class CNN(nn.Module):\n",
        "#     def __init__(self,):\n",
        "#         super(CNN, self).__init__()\n",
        "#         self.convs = nn.Sequential(\n",
        "#                                 nn.Conv2d(1,32,4),\n",
        "#                                 nn.ReLU(),\n",
        "#                                 nn.Conv2d(32,32,4),\n",
        "#                                 nn.ReLU(),\n",
        "#                                 nn.MaxPool2d(2),\n",
        "#                                 nn.Dropout(0.25)\n",
        "#         )\n",
        "#         self.fcs = nn.Sequential(\n",
        "#                                 nn.Linear(11*11*32,128),\n",
        "#                                 nn.ReLU(),\n",
        "#                                 nn.Dropout(0.5),\n",
        "#                                 nn.Linear(128,10),\n",
        "#         )\n",
        "\n",
        "#     def forward(self, x):\n",
        "#         out = x\n",
        "#         out = self.convs(out)\n",
        "#         out = out.view(-1,11*11*32)\n",
        "#         out = self.fcs(out)\n",
        "#         return out\n",
        "\n",
        "input_dim, input_height, input_width = 3, 28, 28\n",
        "class lenet(nn.Module):  \n",
        "    def __init__(self):\n",
        "        super(lenet, self).__init__()\n",
        "        self.input_height = input_height\n",
        "        self.input_width = input_width\n",
        "        self.input_dim = input_dim\n",
        "        self.class_num = 10\n",
        "\n",
        "        self.conv1 = nn.Conv2d(self.input_dim, 6, (5, 5), padding=2)\n",
        "        self.conv2 = nn.Conv2d(6, 16, (5, 5))\n",
        "        self.fc1 = nn.Linear(16 * 5 * 5, 120)\n",
        "        self.fc2 = nn.Linear(120, 84)\n",
        "        self.fc3 = nn.Linear(84, self.class_num)\n",
        "\n",
        "    def forward(self, x):\n",
        "        x = F.max_pool2d(F.relu(self.conv1(x)), (2, 2))\n",
        "        x = F.max_pool2d(F.relu(self.conv2(x)), (2, 2))\n",
        "        x = x.view(-1, self.num_flat_features(x))\n",
        "        x = F.relu(self.fc1(x))\n",
        "        x = F.relu(self.fc2(x))\n",
        "        x = self.fc3(x)\n",
        "        return x\n",
        "\n",
        "    def num_flat_features(self, x):\n",
        "        size = x.size()[1:]\n",
        "        num_features = 1\n",
        "        for s in size:\n",
        "            num_features *= s\n",
        "        return num_features\n",
        "\n",
        "# class CNN(nn.Module):\n",
        "#     def __init__(self):\n",
        "#         super().__init__()\n",
        "#         self.conv1 = nn.Conv2d(3, 6, 5)\n",
        "#         self.pool = nn.MaxPool2d(2, 2)\n",
        "#         self.conv2 = nn.Conv2d(6, 16, 5)\n",
        "#         self.fc1 = nn.Linear(16 * 5 * 5, 120)\n",
        "#         self.fc2 = nn.Linear(120, 84)\n",
        "#         self.fc3 = nn.Linear(84, 10)\n",
        "\n",
        "#     def forward(self, x):\n",
        "#         x = self.pool(F.relu(self.conv1(x)))\n",
        "#         x = self.pool(F.relu(self.conv2(x)))\n",
        "#         x = torch.flatten(x, 1) # flatten all dimensions except batch\n",
        "#         x = F.relu(self.fc1(x))\n",
        "#         x = F.relu(self.fc2(x))\n",
        "#         x = self.fc3(x)\n",
        "#         return x"
      ]
    },
    {
      "cell_type": "markdown",
      "metadata": {
        "id": "-JKD8nilfvh6"
      },
      "source": [
        "### read training data"
      ]
    },
    {
      "cell_type": "code",
      "execution_count": null,
      "metadata": {
        "colab": {
          "base_uri": "https://localhost:8080/",
          "height": 103,
          "referenced_widgets": [
            "9190939846aa422dbd5e7b79c909cedb",
            "84617cc4b9d341d6b0cb75e7a0dac165",
            "2bfba64cc4bf44b6ba5773042f513d07",
            "7ef8ffb95a6e4877a416a2b0ee7c83e4",
            "2d4aef02385145f0979799d2a9cb89eb",
            "f1371182c92e4500bd57c4dbf7563b26",
            "512db0d95a07439d973d030799b32a50",
            "754fad141f4242ffa7efe3966b4a3164",
            "1484bc235fc44338ab2e9ae61f094cde",
            "efb55ae6f02b402d8627d8c4d14fbce8",
            "0ded20da56194304aad9d5bb900e96fc"
          ]
        },
        "id": "v_SzuFiCfvh7",
        "outputId": "81f26c36-c913-44e7-c34a-fa633204ed63"
      },
      "outputs": [
        {
          "output_type": "stream",
          "name": "stdout",
          "text": [
            "Downloading https://www.cs.toronto.edu/~kriz/cifar-10-python.tar.gz to ./cifar-10-python.tar.gz\n"
          ]
        },
        {
          "output_type": "display_data",
          "data": {
            "text/plain": [
              "  0%|          | 0/170498071 [00:00<?, ?it/s]"
            ],
            "application/vnd.jupyter.widget-view+json": {
              "version_major": 2,
              "version_minor": 0,
              "model_id": "9190939846aa422dbd5e7b79c909cedb"
            }
          },
          "metadata": {}
        },
        {
          "output_type": "stream",
          "name": "stdout",
          "text": [
            "Extracting ./cifar-10-python.tar.gz to .\n",
            "Files already downloaded and verified\n"
          ]
        }
      ],
      "source": [
        "cifar10_train = CIFAR10('.', train=True, download=True, transform=transforms.Compose([transforms.ToTensor(), transforms.Resize(size=(28, 28))]))\n",
        "cifar10_test  = CIFAR10('.', train=False,download=True, transform=transforms.Compose([transforms.ToTensor(), transforms.Resize(size=(28, 28))]))\n",
        "traindataloader = DataLoader(cifar10_train, shuffle=True, batch_size=60000)\n",
        "testdataloader  = DataLoader(cifar10_test, shuffle=True, batch_size=10000)\n",
        "X_train, y_train = next(iter(traindataloader))\n",
        "X_test , y_test  = next(iter(testdataloader))\n",
        "X_train, y_train = X_train.detach().cpu().numpy(), y_train.detach().cpu().numpy()\n",
        "X_test, y_test = X_test.detach().cpu().numpy(), y_test.detach().cpu().numpy()"
      ]
    },
    {
      "cell_type": "code",
      "execution_count": null,
      "metadata": {
        "colab": {
          "base_uri": "https://localhost:8080/"
        },
        "id": "kGSELhG-fvh8",
        "outputId": "67bc1bff-7bf2-4e7b-8e12-092f15f2af63"
      },
      "outputs": [
        {
          "output_type": "execute_result",
          "data": {
            "text/plain": [
              "((50000, 3, 28, 28), (10000, 3, 28, 28))"
            ]
          },
          "metadata": {},
          "execution_count": 6
        }
      ],
      "source": [
        "X_train.shape, X_test.shape"
      ]
    },
    {
      "cell_type": "markdown",
      "metadata": {
        "id": "mtuf6UD8fvh9"
      },
      "source": [
        "### preprocessing"
      ]
    },
    {
      "cell_type": "code",
      "execution_count": null,
      "metadata": {
        "id": "ydKf--safvh-"
      },
      "outputs": [],
      "source": [
        "# X_train = X_train.reshape(60000, 1, 28, 28)\n",
        "# X_test = X_test.reshape(10000, 1, 28, 28)"
      ]
    },
    {
      "cell_type": "markdown",
      "metadata": {
        "id": "oMzkFce5fvh-"
      },
      "source": [
        "### initial labelled data\n",
        "We initialize the labelled set with 100 balanced randomly sampled examples"
      ]
    },
    {
      "cell_type": "code",
      "execution_count": null,
      "metadata": {
        "id": "Rm7FGWpdfvh_"
      },
      "outputs": [],
      "source": [
        "initial_idx = np.array([],dtype=int)\n",
        "for i in range(10):\n",
        "    idx = np.random.choice(np.where(y_train==i)[0], size=10, replace=False)\n",
        "    initial_idx = np.concatenate((initial_idx, idx))\n",
        "\n",
        "X_initial = X_train[initial_idx]\n",
        "y_initial = y_train[initial_idx]"
      ]
    },
    {
      "cell_type": "markdown",
      "metadata": {
        "id": "W3MDgai1fviA"
      },
      "source": [
        "### initial unlabelled pool"
      ]
    },
    {
      "cell_type": "code",
      "execution_count": null,
      "metadata": {
        "id": "Jn614AyZgbjG"
      },
      "outputs": [],
      "source": [
        "# X_pool = np.delete(X_train, initial_idx, axis=0)\n",
        "# y_pool = np.delete(y_train, initial_idx, axis=0)\n",
        "X_pool = np.copy(X_train)\n",
        "y_pool = np.copy(y_train)"
      ]
    },
    {
      "cell_type": "markdown",
      "metadata": {
        "id": "vZBr5B3BfviA"
      },
      "source": [
        "## Query Strategies"
      ]
    },
    {
      "cell_type": "markdown",
      "metadata": {
        "id": "Rzv-38YCfviB"
      },
      "source": [
        "### Uniform\n",
        "All the acquisition function we will use will be compared to the uniform acquisition function $\\mathbb{U}_{[0,1]}$ which will be our baseline that we would like to beat."
      ]
    },
    {
      "cell_type": "code",
      "execution_count": null,
      "metadata": {
        "id": "krYLyTnhfviB"
      },
      "outputs": [],
      "source": [
        "def uniform(learner, X, n_instances=1):\n",
        "    query_idx = np.random.choice(range(len(X)), size=n_instances, replace=False)\n",
        "    return query_idx, X[query_idx]"
      ]
    },
    {
      "cell_type": "markdown",
      "metadata": {
        "id": "JGPs48_BfviB"
      },
      "source": [
        "### Entropy\n",
        "Our first acquisition function is the entropy:\n",
        "$$ \\mathbb{H} = - \\sum_{c} p_c \\log(p_c)$$\n",
        "where $p_c$ is the probability predicted for class c. This is approximated by:\n",
        "\\begin{align}\n",
        "p_c &= \\frac{1}{T} \\sum_t p_{c}^{(t)} \n",
        "\\end{align}\n",
        "where $p_{c}^{t}$ is the probability predicted for class c at the t th feedforward pass."
      ]
    },
    {
      "cell_type": "code",
      "execution_count": null,
      "metadata": {
        "id": "G3E0tMppfviC"
      },
      "outputs": [],
      "source": [
        "def max_entropy(learner, X, n_instances=1, T=100):\n",
        "    random_subset = np.random.choice(range(len(X)), size=2000, replace=False)\n",
        "    with torch.no_grad():\n",
        "        outputs = np.stack([torch.softmax(learner.estimator.forward(X[random_subset], training=True),dim=-1).cpu().numpy()\n",
        "                            for t in range(20)])\n",
        "    pc = outputs.mean(axis=0)\n",
        "    acquisition = (-pc*np.log(pc + 1e-10)).sum(axis=-1)\n",
        "    idx = (-acquisition).argsort()[:n_instances]\n",
        "    query_idx = random_subset[idx]\n",
        "    return query_idx, X[query_idx]"
      ]
    },
    {
      "cell_type": "code",
      "execution_count": null,
      "metadata": {
        "id": "E00CVe7ffviC"
      },
      "outputs": [],
      "source": [
        "def bald(learner, X, n_instances=1, T=100):\n",
        "    random_subset = np.random.choice(range(len(X)), size=2000, replace=False)\n",
        "    with torch.no_grad():\n",
        "        outputs = np.stack([torch.softmax(learner.estimator.forward(X[random_subset], training=True),dim=-1).cpu().numpy()\n",
        "                            for t in range(20)])\n",
        "    pc = outputs.mean(axis=0)\n",
        "    H   = (-pc*np.log(pc + 1e-10)).sum(axis=-1)\n",
        "    E_H = - np.mean(np.sum(outputs * np.log(outputs + 1e-10), axis=-1), axis=0)  # [batch size]\n",
        "    acquisition = H - E_H\n",
        "    idx = (-acquisition).argsort()[:n_instances]\n",
        "    query_idx = random_subset[idx]\n",
        "    return query_idx, X[query_idx]    "
      ]
    },
    {
      "cell_type": "code",
      "execution_count": null,
      "metadata": {
        "id": "3qe2UZG5fviC"
      },
      "outputs": [],
      "source": [
        "def save_list(input_list, name):\n",
        "    with open(\"perf_lists_cifar_duplicate/\" + name, 'w') as f:\n",
        "        for val in input_list:\n",
        "            f.write(\"%s\\n\" % val)"
      ]
    },
    {
      "cell_type": "markdown",
      "metadata": {
        "id": "yeAVxYAXfviD"
      },
      "source": [
        "### Active Learning Procedure"
      ]
    },
    {
      "cell_type": "code",
      "execution_count": null,
      "metadata": {
        "id": "osxuqPxFfviD"
      },
      "outputs": [],
      "source": [
        "def active_learning_procedure(query_strategy,\n",
        "                              X_test,\n",
        "                              y_test,\n",
        "                              X_pool,\n",
        "                              y_pool,\n",
        "                              X_initial,\n",
        "                              y_initial,\n",
        "                              estimator,\n",
        "                              n_queries=150,\n",
        "                              n_instances=100):\n",
        "    learner = ActiveLearner(estimator=estimator,\n",
        "                            X_training=X_initial,\n",
        "                            y_training=y_initial,\n",
        "                            query_strategy=query_strategy,\n",
        "                           )\n",
        "    perf_hist = [learner.score(X_test, y_test)]\n",
        "    X_rolling, y_rolling = np.copy(X_initial), np.copy(y_initial)\n",
        "    for index in range(n_queries):\n",
        "        query_idx, query_instance = learner.query(X_pool, n_instances)\n",
        "#         learner.teach(X_pool[query_idx], y_pool[query_idx])\n",
        "\n",
        "        new_samples = np.concatenate((X_pool[query_idx], X_pool[query_idx]))\n",
        "        new_labels = np.concatenate((y_pool[query_idx], y_pool[query_idx]))\n",
        "        \n",
        "        X_rolling, y_rolling = np.concatenate((X_rolling, new_samples), axis=0), np.concatenate((y_rolling, new_labels))\n",
        "        # X_rolling, y_rolling = np.concatenate((X_rolling, X_pool[query_idx]), axis=0), np.concatenate((y_rolling, y_pool[query_idx]))\n",
        "        learner.fit(X_rolling, y_rolling)\n",
        "        X_pool = np.delete(X_pool, query_idx, axis=0)\n",
        "        y_pool = np.delete(y_pool, query_idx, axis=0)\n",
        "        model_accuracy = learner.score(X_test, y_test)\n",
        "        print('Accuracy after query {n}: {acc:0.4f}'.format(n=index + 1, acc=model_accuracy))\n",
        "        perf_hist.append(model_accuracy)\n",
        "    return perf_hist"
      ]
    },
    {
      "cell_type": "code",
      "execution_count": null,
      "metadata": {
        "id": "7eGlDIKgg73H"
      },
      "outputs": [],
      "source": [
        ""
      ]
    },
    {
      "cell_type": "code",
      "execution_count": null,
      "metadata": {
        "colab": {
          "base_uri": "https://localhost:8080/"
        },
        "id": "It1GE2nqfviD",
        "outputId": "c820b7c8-4d16-4dc2-9a99-d8285e8c249c"
      },
      "outputs": [
        {
          "name": "stdout",
          "output_type": "stream",
          "text": [
            "Accuracy after query 1: 0.2455\n",
            "Accuracy after query 2: 0.2750\n",
            "Accuracy after query 3: 0.2462\n",
            "Accuracy after query 4: 0.3027\n",
            "Accuracy after query 5: 0.3122\n",
            "Accuracy after query 6: 0.3450\n",
            "Accuracy after query 7: 0.3333\n",
            "Accuracy after query 8: 0.3571\n",
            "Accuracy after query 9: 0.3581\n",
            "Accuracy after query 10: 0.3543\n",
            "Accuracy after query 11: 0.3719\n",
            "Accuracy after query 12: 0.3656\n",
            "Accuracy after query 13: 0.3726\n",
            "Accuracy after query 14: 0.3769\n",
            "Accuracy after query 15: 0.3828\n",
            "Accuracy after query 16: 0.3768\n",
            "Accuracy after query 17: 0.3678\n",
            "Accuracy after query 18: 0.3549\n",
            "Accuracy after query 19: 0.4126\n",
            "Accuracy after query 20: 0.3392\n",
            "Accuracy after query 21: 0.4132\n",
            "Accuracy after query 22: 0.4160\n",
            "Accuracy after query 23: 0.4168\n",
            "Accuracy after query 24: 0.4036\n",
            "Accuracy after query 25: 0.4203\n",
            "Accuracy after query 26: 0.4247\n",
            "Accuracy after query 27: 0.4098\n",
            "Accuracy after query 28: 0.4135\n",
            "Accuracy after query 29: 0.4234\n",
            "Accuracy after query 30: 0.4168\n",
            "Accuracy after query 31: 0.4181\n",
            "Accuracy after query 32: 0.4236\n",
            "Accuracy after query 33: 0.4210\n",
            "Accuracy after query 34: 0.4253\n",
            "Accuracy after query 35: 0.4376\n",
            "Accuracy after query 36: 0.4201\n",
            "Accuracy after query 37: 0.4377\n",
            "Accuracy after query 38: 0.4383\n",
            "Accuracy after query 39: 0.4261\n",
            "Accuracy after query 40: 0.4440\n",
            "Accuracy after query 41: 0.4065\n",
            "Accuracy after query 42: 0.4204\n",
            "Accuracy after query 43: 0.4391\n",
            "Accuracy after query 44: 0.4274\n",
            "Accuracy after query 45: 0.4382\n",
            "Accuracy after query 46: 0.4341\n",
            "Accuracy after query 47: 0.4249\n",
            "Accuracy after query 48: 0.4412\n",
            "Accuracy after query 49: 0.4252\n",
            "Accuracy after query 50: 0.4342\n",
            "Accuracy after query 51: 0.4351\n",
            "Accuracy after query 52: 0.4268\n",
            "Accuracy after query 53: 0.4516\n",
            "Accuracy after query 54: 0.4330\n",
            "Accuracy after query 55: 0.4462\n",
            "Accuracy after query 56: 0.4455\n",
            "Accuracy after query 57: 0.4300\n",
            "Accuracy after query 58: 0.4496\n",
            "Accuracy after query 59: 0.4361\n",
            "Accuracy after query 60: 0.4508\n",
            "Accuracy after query 61: 0.4427\n",
            "Accuracy after query 62: 0.4446\n",
            "Accuracy after query 63: 0.4599\n",
            "Accuracy after query 64: 0.4370\n",
            "Accuracy after query 65: 0.4533\n",
            "Accuracy after query 66: 0.4538\n",
            "Accuracy after query 67: 0.4529\n",
            "Accuracy after query 68: 0.4568\n",
            "Accuracy after query 69: 0.4541\n",
            "Accuracy after query 70: 0.4562\n",
            "Accuracy after query 71: 0.4675\n",
            "Accuracy after query 72: 0.4694\n",
            "Accuracy after query 73: 0.4366\n",
            "Accuracy after query 74: 0.4559\n",
            "Accuracy after query 75: 0.4284\n",
            "Accuracy after query 76: 0.4522\n",
            "Accuracy after query 77: 0.4811\n",
            "Accuracy after query 78: 0.4604\n",
            "Accuracy after query 79: 0.4608\n",
            "Accuracy after query 80: 0.4428\n",
            "Accuracy after query 81: 0.4450\n",
            "Accuracy after query 82: 0.4668\n",
            "Accuracy after query 83: 0.4561\n",
            "Accuracy after query 84: 0.4566\n",
            "Accuracy after query 85: 0.4606\n",
            "Accuracy after query 86: 0.4631\n",
            "Accuracy after query 87: 0.4662\n",
            "Accuracy after query 88: 0.4602\n",
            "Accuracy after query 89: 0.4587\n",
            "Accuracy after query 90: 0.4620\n",
            "Accuracy after query 91: 0.4674\n",
            "Accuracy after query 92: 0.4396\n",
            "Accuracy after query 93: 0.4711\n",
            "Accuracy after query 94: 0.4804\n",
            "Accuracy after query 95: 0.4507\n",
            "Accuracy after query 96: 0.4605\n",
            "Accuracy after query 97: 0.4511\n",
            "Accuracy after query 98: 0.4607\n",
            "Accuracy after query 99: 0.4531\n",
            "Accuracy after query 100: 0.4524\n",
            "Accuracy after query 101: 0.4529\n",
            "Accuracy after query 102: 0.4524\n",
            "Accuracy after query 103: 0.4731\n",
            "Accuracy after query 104: 0.4814\n",
            "Accuracy after query 105: 0.4561\n",
            "Accuracy after query 106: 0.4451\n",
            "Accuracy after query 107: 0.4570\n",
            "Accuracy after query 108: 0.4610\n",
            "Accuracy after query 109: 0.4720\n",
            "Accuracy after query 110: 0.4684\n",
            "Accuracy after query 111: 0.4716\n",
            "Accuracy after query 112: 0.4782\n",
            "Accuracy after query 113: 0.4650\n",
            "Accuracy after query 114: 0.4726\n",
            "Accuracy after query 115: 0.4751\n",
            "Accuracy after query 116: 0.4745\n",
            "Accuracy after query 117: 0.4757\n",
            "Accuracy after query 118: 0.4723\n",
            "Accuracy after query 119: 0.4575\n",
            "Accuracy after query 120: 0.4802\n",
            "Accuracy after query 121: 0.4643\n",
            "Accuracy after query 122: 0.4635\n",
            "Accuracy after query 123: 0.4888\n",
            "Accuracy after query 124: 0.4835\n",
            "Accuracy after query 125: 0.4704\n",
            "Accuracy after query 126: 0.4766\n",
            "Accuracy after query 127: 0.4730\n",
            "Accuracy after query 128: 0.4693\n",
            "Accuracy after query 129: 0.4748\n",
            "Accuracy after query 130: 0.4732\n",
            "Accuracy after query 131: 0.4883\n",
            "Accuracy after query 132: 0.4934\n",
            "Accuracy after query 133: 0.4683\n",
            "Accuracy after query 134: 0.4946\n",
            "Accuracy after query 135: 0.4756\n",
            "Accuracy after query 136: 0.4962\n",
            "Accuracy after query 137: 0.4820\n",
            "Accuracy after query 138: 0.4690\n",
            "Accuracy after query 139: 0.4708\n",
            "Accuracy after query 140: 0.4756\n",
            "Accuracy after query 141: 0.4889\n",
            "Accuracy after query 142: 0.4811\n",
            "Accuracy after query 143: 0.4906\n",
            "Accuracy after query 144: 0.5103\n",
            "Accuracy after query 145: 0.4787\n",
            "Accuracy after query 146: 0.4951\n",
            "Accuracy after query 147: 0.4819\n",
            "Accuracy after query 148: 0.4772\n",
            "Accuracy after query 149: 0.4821\n",
            "Accuracy after query 150: 0.4808\n"
          ]
        }
      ],
      "source": [
        "device = \"cuda\" if torch.cuda.is_available() else \"cpu\"\n",
        "estimator = NeuralNetClassifier(lenet,\n",
        "                                max_epochs=50,\n",
        "                                batch_size=100,\n",
        "                                lr=1.0,\n",
        "                                optimizer=torch.optim.Adadelta,\n",
        "                                optimizer__rho=0.9,\n",
        "                                optimizer__eps=1e-6,\n",
        "                                criterion=torch.nn.CrossEntropyLoss,\n",
        "                                train_split=None,\n",
        "                                verbose=0,\n",
        "                                device=device)\n",
        "uniform_perf_hist = active_learning_procedure(uniform,\n",
        "                                              X_test,\n",
        "                                              y_test,\n",
        "                                              X_pool,\n",
        "                                              y_pool,\n",
        "                                              X_initial,\n",
        "                                              y_initial,\n",
        "                                              estimator,\n",
        "                                             n_instances=100)\n",
        "save_list(uniform_perf_hist, \"uniform_perf_hist\")"
      ]
    },
    {
      "cell_type": "code",
      "execution_count": null,
      "metadata": {
        "colab": {
          "base_uri": "https://localhost:8080/"
        },
        "id": "WmEljLvGfviE",
        "outputId": "e88b3281-0c30-4066-b743-7056284f309f"
      },
      "outputs": [
        {
          "name": "stdout",
          "output_type": "stream",
          "text": [
            "Accuracy after query 1: 0.2349\n",
            "Accuracy after query 2: 0.2968\n",
            "Accuracy after query 3: 0.2814\n",
            "Accuracy after query 4: 0.2901\n",
            "Accuracy after query 5: 0.3175\n",
            "Accuracy after query 6: 0.3345\n",
            "Accuracy after query 7: 0.3305\n",
            "Accuracy after query 8: 0.3525\n",
            "Accuracy after query 9: 0.3654\n",
            "Accuracy after query 10: 0.3777\n",
            "Accuracy after query 11: 0.3889\n",
            "Accuracy after query 12: 0.3750\n",
            "Accuracy after query 13: 0.3717\n",
            "Accuracy after query 14: 0.3794\n",
            "Accuracy after query 15: 0.3898\n",
            "Accuracy after query 16: 0.4088\n",
            "Accuracy after query 17: 0.3918\n",
            "Accuracy after query 18: 0.4003\n",
            "Accuracy after query 19: 0.4006\n",
            "Accuracy after query 20: 0.4059\n",
            "Accuracy after query 21: 0.4061\n",
            "Accuracy after query 22: 0.4050\n",
            "Accuracy after query 23: 0.4094\n",
            "Accuracy after query 24: 0.4087\n",
            "Accuracy after query 25: 0.4151\n",
            "Accuracy after query 26: 0.4106\n",
            "Accuracy after query 27: 0.4232\n",
            "Accuracy after query 28: 0.4137\n",
            "Accuracy after query 29: 0.4403\n",
            "Accuracy after query 30: 0.3871\n",
            "Accuracy after query 31: 0.4295\n",
            "Accuracy after query 32: 0.4273\n",
            "Accuracy after query 33: 0.4392\n",
            "Accuracy after query 34: 0.4272\n",
            "Accuracy after query 35: 0.4188\n",
            "Accuracy after query 36: 0.4152\n",
            "Accuracy after query 37: 0.4214\n",
            "Accuracy after query 38: 0.4304\n",
            "Accuracy after query 39: 0.4161\n",
            "Accuracy after query 40: 0.4242\n",
            "Accuracy after query 41: 0.4159\n",
            "Accuracy after query 42: 0.4354\n",
            "Accuracy after query 43: 0.4268\n",
            "Accuracy after query 44: 0.4375\n",
            "Accuracy after query 45: 0.4216\n",
            "Accuracy after query 46: 0.4369\n",
            "Accuracy after query 47: 0.4235\n",
            "Accuracy after query 48: 0.4342\n",
            "Accuracy after query 49: 0.4408\n",
            "Accuracy after query 50: 0.4208\n",
            "Accuracy after query 51: 0.4309\n",
            "Accuracy after query 52: 0.4428\n",
            "Accuracy after query 53: 0.4385\n",
            "Accuracy after query 54: 0.4450\n",
            "Accuracy after query 55: 0.4346\n",
            "Accuracy after query 56: 0.4356\n",
            "Accuracy after query 57: 0.4387\n",
            "Accuracy after query 58: 0.4458\n",
            "Accuracy after query 59: 0.4430\n",
            "Accuracy after query 60: 0.4550\n",
            "Accuracy after query 61: 0.4313\n",
            "Accuracy after query 62: 0.4474\n",
            "Accuracy after query 63: 0.4533\n",
            "Accuracy after query 64: 0.4360\n",
            "Accuracy after query 65: 0.4570\n",
            "Accuracy after query 66: 0.4536\n",
            "Accuracy after query 67: 0.4487\n",
            "Accuracy after query 68: 0.4552\n",
            "Accuracy after query 69: 0.4585\n",
            "Accuracy after query 70: 0.4525\n",
            "Accuracy after query 71: 0.4631\n",
            "Accuracy after query 72: 0.4556\n",
            "Accuracy after query 73: 0.4508\n",
            "Accuracy after query 74: 0.4614\n",
            "Accuracy after query 75: 0.4540\n",
            "Accuracy after query 76: 0.4500\n",
            "Accuracy after query 77: 0.4645\n",
            "Accuracy after query 78: 0.4459\n",
            "Accuracy after query 79: 0.4513\n",
            "Accuracy after query 80: 0.4386\n",
            "Accuracy after query 81: 0.4681\n",
            "Accuracy after query 82: 0.4526\n",
            "Accuracy after query 83: 0.4491\n",
            "Accuracy after query 84: 0.4565\n",
            "Accuracy after query 85: 0.4497\n",
            "Accuracy after query 86: 0.4594\n",
            "Accuracy after query 87: 0.4459\n",
            "Accuracy after query 88: 0.4625\n",
            "Accuracy after query 89: 0.4736\n",
            "Accuracy after query 90: 0.4511\n",
            "Accuracy after query 91: 0.4850\n",
            "Accuracy after query 92: 0.4294\n",
            "Accuracy after query 93: 0.4586\n",
            "Accuracy after query 94: 0.4733\n",
            "Accuracy after query 95: 0.4696\n",
            "Accuracy after query 96: 0.4673\n",
            "Accuracy after query 97: 0.4628\n",
            "Accuracy after query 98: 0.4858\n",
            "Accuracy after query 99: 0.4705\n",
            "Accuracy after query 100: 0.4513\n",
            "Accuracy after query 101: 0.4715\n",
            "Accuracy after query 102: 0.4674\n",
            "Accuracy after query 103: 0.4702\n",
            "Accuracy after query 104: 0.4797\n",
            "Accuracy after query 105: 0.4602\n",
            "Accuracy after query 106: 0.4725\n",
            "Accuracy after query 107: 0.4541\n",
            "Accuracy after query 108: 0.4462\n",
            "Accuracy after query 109: 0.4739\n",
            "Accuracy after query 110: 0.4698\n",
            "Accuracy after query 111: 0.4742\n",
            "Accuracy after query 112: 0.4770\n",
            "Accuracy after query 113: 0.4601\n",
            "Accuracy after query 114: 0.4670\n",
            "Accuracy after query 115: 0.4870\n",
            "Accuracy after query 116: 0.4848\n",
            "Accuracy after query 117: 0.4686\n",
            "Accuracy after query 118: 0.4618\n",
            "Accuracy after query 119: 0.4584\n",
            "Accuracy after query 120: 0.4695\n",
            "Accuracy after query 121: 0.4710\n",
            "Accuracy after query 122: 0.4706\n",
            "Accuracy after query 123: 0.4520\n",
            "Accuracy after query 124: 0.4595\n",
            "Accuracy after query 125: 0.4786\n",
            "Accuracy after query 126: 0.4830\n",
            "Accuracy after query 127: 0.4687\n",
            "Accuracy after query 128: 0.4650\n",
            "Accuracy after query 129: 0.4726\n",
            "Accuracy after query 130: 0.4806\n",
            "Accuracy after query 131: 0.4686\n",
            "Accuracy after query 132: 0.4678\n",
            "Accuracy after query 133: 0.4735\n",
            "Accuracy after query 134: 0.4661\n",
            "Accuracy after query 135: 0.4756\n",
            "Accuracy after query 136: 0.4961\n",
            "Accuracy after query 137: 0.4897\n",
            "Accuracy after query 138: 0.4696\n",
            "Accuracy after query 139: 0.4778\n",
            "Accuracy after query 140: 0.4875\n",
            "Accuracy after query 141: 0.4810\n",
            "Accuracy after query 142: 0.5093\n",
            "Accuracy after query 143: 0.4695\n",
            "Accuracy after query 144: 0.4835\n",
            "Accuracy after query 145: 0.4569\n",
            "Accuracy after query 146: 0.4807\n",
            "Accuracy after query 147: 0.4654\n",
            "Accuracy after query 148: 0.4581\n",
            "Accuracy after query 149: 0.4817\n",
            "Accuracy after query 150: 0.4849\n"
          ]
        }
      ],
      "source": [
        "device = \"cuda\" if torch.cuda.is_available() else \"cpu\"\n",
        "estimator = NeuralNetClassifier(lenet,\n",
        "                                max_epochs=50,\n",
        "                                batch_size=100,\n",
        "                                lr=1.0,\n",
        "                                optimizer=torch.optim.Adadelta,\n",
        "                                optimizer__rho=0.9,\n",
        "                                optimizer__eps=1e-6,\n",
        "                                criterion=torch.nn.CrossEntropyLoss,\n",
        "                                train_split=None,\n",
        "                                verbose=0,\n",
        "                                device=device)\n",
        "bald_perf_hist = active_learning_procedure(bald,\n",
        "                                              X_test,\n",
        "                                              y_test,\n",
        "                                              X_pool,\n",
        "                                              y_pool,\n",
        "                                              X_initial,\n",
        "                                              y_initial,\n",
        "                                              estimator,\n",
        "                                             n_instances=100)\n",
        "save_list(bald_perf_hist, \"bald_perf_hist\")"
      ]
    },
    {
      "cell_type": "code",
      "execution_count": null,
      "metadata": {
        "colab": {
          "base_uri": "https://localhost:8080/"
        },
        "id": "U820s4q2fviF",
        "outputId": "4bee2d44-62cd-4ada-b878-674535fb6448"
      },
      "outputs": [
        {
          "output_type": "stream",
          "name": "stdout",
          "text": [
            "Accuracy after query 1: 0.2116\n",
            "Accuracy after query 2: 0.2414\n",
            "Accuracy after query 3: 0.2581\n",
            "Accuracy after query 4: 0.2899\n",
            "Accuracy after query 5: 0.3139\n",
            "Accuracy after query 6: 0.3356\n",
            "Accuracy after query 7: 0.3422\n",
            "Accuracy after query 8: 0.3538\n",
            "Accuracy after query 9: 0.3597\n",
            "Accuracy after query 10: 0.3627\n",
            "Accuracy after query 11: 0.3631\n",
            "Accuracy after query 12: 0.3500\n",
            "Accuracy after query 13: 0.3723\n",
            "Accuracy after query 14: 0.3893\n",
            "Accuracy after query 15: 0.3765\n",
            "Accuracy after query 16: 0.4059\n",
            "Accuracy after query 17: 0.3944\n",
            "Accuracy after query 18: 0.3856\n",
            "Accuracy after query 19: 0.4067\n",
            "Accuracy after query 20: 0.3966\n",
            "Accuracy after query 21: 0.3988\n",
            "Accuracy after query 22: 0.4000\n",
            "Accuracy after query 23: 0.3947\n",
            "Accuracy after query 24: 0.4223\n",
            "Accuracy after query 25: 0.4158\n",
            "Accuracy after query 26: 0.4104\n",
            "Accuracy after query 27: 0.4261\n",
            "Accuracy after query 28: 0.4020\n",
            "Accuracy after query 29: 0.3977\n",
            "Accuracy after query 30: 0.4176\n",
            "Accuracy after query 31: 0.4259\n",
            "Accuracy after query 32: 0.4031\n",
            "Accuracy after query 33: 0.4255\n",
            "Accuracy after query 34: 0.4133\n",
            "Accuracy after query 35: 0.4146\n",
            "Accuracy after query 36: 0.4089\n",
            "Accuracy after query 37: 0.4166\n",
            "Accuracy after query 38: 0.4355\n",
            "Accuracy after query 39: 0.3904\n",
            "Accuracy after query 40: 0.4331\n",
            "Accuracy after query 41: 0.4381\n",
            "Accuracy after query 42: 0.4131\n",
            "Accuracy after query 43: 0.4217\n",
            "Accuracy after query 44: 0.4333\n",
            "Accuracy after query 45: 0.4245\n",
            "Accuracy after query 46: 0.4176\n",
            "Accuracy after query 47: 0.4398\n",
            "Accuracy after query 48: 0.4237\n",
            "Accuracy after query 49: 0.4254\n",
            "Accuracy after query 50: 0.4149\n",
            "Accuracy after query 51: 0.3873\n",
            "Accuracy after query 52: 0.4266\n",
            "Accuracy after query 53: 0.4410\n",
            "Accuracy after query 54: 0.4241\n",
            "Accuracy after query 55: 0.4459\n",
            "Accuracy after query 56: 0.4474\n",
            "Accuracy after query 57: 0.4373\n",
            "Accuracy after query 58: 0.4311\n",
            "Accuracy after query 59: 0.4235\n",
            "Accuracy after query 60: 0.4379\n",
            "Accuracy after query 61: 0.4335\n",
            "Accuracy after query 62: 0.4294\n",
            "Accuracy after query 63: 0.4600\n",
            "Accuracy after query 64: 0.4449\n",
            "Accuracy after query 65: 0.4295\n",
            "Accuracy after query 66: 0.4379\n",
            "Accuracy after query 67: 0.4468\n",
            "Accuracy after query 68: 0.4295\n",
            "Accuracy after query 69: 0.4306\n",
            "Accuracy after query 70: 0.4468\n",
            "Accuracy after query 71: 0.4478\n",
            "Accuracy after query 72: 0.4674\n",
            "Accuracy after query 73: 0.4422\n",
            "Accuracy after query 74: 0.4588\n",
            "Accuracy after query 75: 0.4377\n",
            "Accuracy after query 76: 0.4389\n",
            "Accuracy after query 77: 0.4325\n",
            "Accuracy after query 78: 0.4444\n",
            "Accuracy after query 79: 0.4269\n",
            "Accuracy after query 80: 0.4554\n",
            "Accuracy after query 81: 0.4424\n",
            "Accuracy after query 82: 0.4358\n",
            "Accuracy after query 83: 0.4558\n",
            "Accuracy after query 84: 0.4675\n",
            "Accuracy after query 85: 0.4492\n",
            "Accuracy after query 86: 0.4384\n",
            "Accuracy after query 87: 0.4646\n",
            "Accuracy after query 88: 0.4580\n",
            "Accuracy after query 89: 0.4441\n",
            "Accuracy after query 90: 0.4479\n",
            "Accuracy after query 91: 0.4473\n",
            "Accuracy after query 92: 0.4294\n",
            "Accuracy after query 93: 0.4600\n",
            "Accuracy after query 94: 0.4491\n",
            "Accuracy after query 95: 0.4427\n",
            "Accuracy after query 96: 0.4486\n",
            "Accuracy after query 97: 0.4555\n",
            "Accuracy after query 98: 0.4866\n",
            "Accuracy after query 99: 0.4614\n",
            "Accuracy after query 100: 0.4353\n",
            "Accuracy after query 101: 0.4581\n",
            "Accuracy after query 102: 0.4636\n",
            "Accuracy after query 103: 0.4512\n",
            "Accuracy after query 104: 0.4531\n",
            "Accuracy after query 105: 0.4650\n",
            "Accuracy after query 106: 0.4628\n",
            "Accuracy after query 107: 0.4490\n",
            "Accuracy after query 108: 0.4734\n",
            "Accuracy after query 109: 0.4513\n",
            "Accuracy after query 110: 0.4460\n",
            "Accuracy after query 111: 0.4309\n",
            "Accuracy after query 112: 0.4737\n",
            "Accuracy after query 113: 0.4445\n",
            "Accuracy after query 114: 0.4564\n",
            "Accuracy after query 115: 0.4683\n",
            "Accuracy after query 116: 0.4542\n",
            "Accuracy after query 117: 0.4762\n",
            "Accuracy after query 118: 0.4705\n",
            "Accuracy after query 119: 0.4354\n",
            "Accuracy after query 120: 0.4609\n",
            "Accuracy after query 121: 0.4630\n",
            "Accuracy after query 122: 0.4567\n",
            "Accuracy after query 123: 0.4791\n",
            "Accuracy after query 124: 0.4649\n",
            "Accuracy after query 125: 0.4760\n",
            "Accuracy after query 126: 0.4615\n",
            "Accuracy after query 127: 0.4586\n",
            "Accuracy after query 128: 0.4578\n",
            "Accuracy after query 129: 0.4665\n",
            "Accuracy after query 130: 0.4808\n",
            "Accuracy after query 131: 0.4606\n",
            "Accuracy after query 132: 0.4696\n",
            "Accuracy after query 133: 0.4837\n",
            "Accuracy after query 134: 0.4618\n",
            "Accuracy after query 135: 0.4812\n",
            "Accuracy after query 136: 0.4721\n",
            "Accuracy after query 137: 0.4613\n",
            "Accuracy after query 138: 0.4840\n",
            "Accuracy after query 139: 0.4390\n",
            "Accuracy after query 140: 0.4631\n",
            "Accuracy after query 141: 0.4742\n",
            "Accuracy after query 142: 0.4842\n",
            "Accuracy after query 143: 0.4745\n",
            "Accuracy after query 144: 0.4764\n",
            "Accuracy after query 145: 0.4761\n",
            "Accuracy after query 146: 0.4755\n",
            "Accuracy after query 147: 0.4718\n",
            "Accuracy after query 148: 0.4768\n",
            "Accuracy after query 149: 0.4736\n",
            "Accuracy after query 150: 0.4592\n"
          ]
        }
      ],
      "source": [
        "device = \"cuda\" if torch.cuda.is_available() else \"cpu\"\n",
        "estimator = NeuralNetClassifier(lenet,\n",
        "                                max_epochs=50,\n",
        "                                batch_size=100,\n",
        "                                lr=1.0,\n",
        "                                optimizer=torch.optim.Adadelta,\n",
        "                                optimizer__rho=0.9,\n",
        "                                optimizer__eps=1e-6,\n",
        "                                criterion=torch.nn.CrossEntropyLoss,\n",
        "                                train_split=None,\n",
        "                                verbose=0,\n",
        "                                device=device)\n",
        "entropy_perf_hist = active_learning_procedure(max_entropy,\n",
        "                                              X_test,\n",
        "                                              y_test,\n",
        "                                              X_pool,\n",
        "                                              y_pool,\n",
        "                                              X_initial,\n",
        "                                              y_initial,\n",
        "                                              estimator,\n",
        "                                             n_instances=100)\n",
        "save_list(entropy_perf_hist, \"entropy_perf_hist\")"
      ]
    },
    {
      "cell_type": "code",
      "execution_count": null,
      "metadata": {
        "id": "Za7keYZKfviF"
      },
      "outputs": [],
      "source": [
        ""
      ]
    }
  ],
  "metadata": {
    "accelerator": "GPU",
    "colab": {
      "name": "dbal_pytorch_paper_cifar_duplicate.ipynb",
      "provenance": []
    },
    "kernelspec": {
      "display_name": "Python 3",
      "name": "python3"
    },
    "language_info": {
      "name": "python"
    },
    "widgets": {
      "application/vnd.jupyter.widget-state+json": {
        "9190939846aa422dbd5e7b79c909cedb": {
          "model_module": "@jupyter-widgets/controls",
          "model_name": "HBoxModel",
          "model_module_version": "1.5.0",
          "state": {
            "_dom_classes": [],
            "_model_module": "@jupyter-widgets/controls",
            "_model_module_version": "1.5.0",
            "_model_name": "HBoxModel",
            "_view_count": null,
            "_view_module": "@jupyter-widgets/controls",
            "_view_module_version": "1.5.0",
            "_view_name": "HBoxView",
            "box_style": "",
            "children": [
              "IPY_MODEL_84617cc4b9d341d6b0cb75e7a0dac165",
              "IPY_MODEL_2bfba64cc4bf44b6ba5773042f513d07",
              "IPY_MODEL_7ef8ffb95a6e4877a416a2b0ee7c83e4"
            ],
            "layout": "IPY_MODEL_2d4aef02385145f0979799d2a9cb89eb"
          }
        },
        "84617cc4b9d341d6b0cb75e7a0dac165": {
          "model_module": "@jupyter-widgets/controls",
          "model_name": "HTMLModel",
          "model_module_version": "1.5.0",
          "state": {
            "_dom_classes": [],
            "_model_module": "@jupyter-widgets/controls",
            "_model_module_version": "1.5.0",
            "_model_name": "HTMLModel",
            "_view_count": null,
            "_view_module": "@jupyter-widgets/controls",
            "_view_module_version": "1.5.0",
            "_view_name": "HTMLView",
            "description": "",
            "description_tooltip": null,
            "layout": "IPY_MODEL_f1371182c92e4500bd57c4dbf7563b26",
            "placeholder": "​",
            "style": "IPY_MODEL_512db0d95a07439d973d030799b32a50",
            "value": ""
          }
        },
        "2bfba64cc4bf44b6ba5773042f513d07": {
          "model_module": "@jupyter-widgets/controls",
          "model_name": "FloatProgressModel",
          "model_module_version": "1.5.0",
          "state": {
            "_dom_classes": [],
            "_model_module": "@jupyter-widgets/controls",
            "_model_module_version": "1.5.0",
            "_model_name": "FloatProgressModel",
            "_view_count": null,
            "_view_module": "@jupyter-widgets/controls",
            "_view_module_version": "1.5.0",
            "_view_name": "ProgressView",
            "bar_style": "success",
            "description": "",
            "description_tooltip": null,
            "layout": "IPY_MODEL_754fad141f4242ffa7efe3966b4a3164",
            "max": 170498071,
            "min": 0,
            "orientation": "horizontal",
            "style": "IPY_MODEL_1484bc235fc44338ab2e9ae61f094cde",
            "value": 170498071
          }
        },
        "7ef8ffb95a6e4877a416a2b0ee7c83e4": {
          "model_module": "@jupyter-widgets/controls",
          "model_name": "HTMLModel",
          "model_module_version": "1.5.0",
          "state": {
            "_dom_classes": [],
            "_model_module": "@jupyter-widgets/controls",
            "_model_module_version": "1.5.0",
            "_model_name": "HTMLModel",
            "_view_count": null,
            "_view_module": "@jupyter-widgets/controls",
            "_view_module_version": "1.5.0",
            "_view_name": "HTMLView",
            "description": "",
            "description_tooltip": null,
            "layout": "IPY_MODEL_efb55ae6f02b402d8627d8c4d14fbce8",
            "placeholder": "​",
            "style": "IPY_MODEL_0ded20da56194304aad9d5bb900e96fc",
            "value": " 170499072/? [00:02&lt;00:00, 85289185.64it/s]"
          }
        },
        "2d4aef02385145f0979799d2a9cb89eb": {
          "model_module": "@jupyter-widgets/base",
          "model_name": "LayoutModel",
          "model_module_version": "1.2.0",
          "state": {
            "_model_module": "@jupyter-widgets/base",
            "_model_module_version": "1.2.0",
            "_model_name": "LayoutModel",
            "_view_count": null,
            "_view_module": "@jupyter-widgets/base",
            "_view_module_version": "1.2.0",
            "_view_name": "LayoutView",
            "align_content": null,
            "align_items": null,
            "align_self": null,
            "border": null,
            "bottom": null,
            "display": null,
            "flex": null,
            "flex_flow": null,
            "grid_area": null,
            "grid_auto_columns": null,
            "grid_auto_flow": null,
            "grid_auto_rows": null,
            "grid_column": null,
            "grid_gap": null,
            "grid_row": null,
            "grid_template_areas": null,
            "grid_template_columns": null,
            "grid_template_rows": null,
            "height": null,
            "justify_content": null,
            "justify_items": null,
            "left": null,
            "margin": null,
            "max_height": null,
            "max_width": null,
            "min_height": null,
            "min_width": null,
            "object_fit": null,
            "object_position": null,
            "order": null,
            "overflow": null,
            "overflow_x": null,
            "overflow_y": null,
            "padding": null,
            "right": null,
            "top": null,
            "visibility": null,
            "width": null
          }
        },
        "f1371182c92e4500bd57c4dbf7563b26": {
          "model_module": "@jupyter-widgets/base",
          "model_name": "LayoutModel",
          "model_module_version": "1.2.0",
          "state": {
            "_model_module": "@jupyter-widgets/base",
            "_model_module_version": "1.2.0",
            "_model_name": "LayoutModel",
            "_view_count": null,
            "_view_module": "@jupyter-widgets/base",
            "_view_module_version": "1.2.0",
            "_view_name": "LayoutView",
            "align_content": null,
            "align_items": null,
            "align_self": null,
            "border": null,
            "bottom": null,
            "display": null,
            "flex": null,
            "flex_flow": null,
            "grid_area": null,
            "grid_auto_columns": null,
            "grid_auto_flow": null,
            "grid_auto_rows": null,
            "grid_column": null,
            "grid_gap": null,
            "grid_row": null,
            "grid_template_areas": null,
            "grid_template_columns": null,
            "grid_template_rows": null,
            "height": null,
            "justify_content": null,
            "justify_items": null,
            "left": null,
            "margin": null,
            "max_height": null,
            "max_width": null,
            "min_height": null,
            "min_width": null,
            "object_fit": null,
            "object_position": null,
            "order": null,
            "overflow": null,
            "overflow_x": null,
            "overflow_y": null,
            "padding": null,
            "right": null,
            "top": null,
            "visibility": null,
            "width": null
          }
        },
        "512db0d95a07439d973d030799b32a50": {
          "model_module": "@jupyter-widgets/controls",
          "model_name": "DescriptionStyleModel",
          "model_module_version": "1.5.0",
          "state": {
            "_model_module": "@jupyter-widgets/controls",
            "_model_module_version": "1.5.0",
            "_model_name": "DescriptionStyleModel",
            "_view_count": null,
            "_view_module": "@jupyter-widgets/base",
            "_view_module_version": "1.2.0",
            "_view_name": "StyleView",
            "description_width": ""
          }
        },
        "754fad141f4242ffa7efe3966b4a3164": {
          "model_module": "@jupyter-widgets/base",
          "model_name": "LayoutModel",
          "model_module_version": "1.2.0",
          "state": {
            "_model_module": "@jupyter-widgets/base",
            "_model_module_version": "1.2.0",
            "_model_name": "LayoutModel",
            "_view_count": null,
            "_view_module": "@jupyter-widgets/base",
            "_view_module_version": "1.2.0",
            "_view_name": "LayoutView",
            "align_content": null,
            "align_items": null,
            "align_self": null,
            "border": null,
            "bottom": null,
            "display": null,
            "flex": null,
            "flex_flow": null,
            "grid_area": null,
            "grid_auto_columns": null,
            "grid_auto_flow": null,
            "grid_auto_rows": null,
            "grid_column": null,
            "grid_gap": null,
            "grid_row": null,
            "grid_template_areas": null,
            "grid_template_columns": null,
            "grid_template_rows": null,
            "height": null,
            "justify_content": null,
            "justify_items": null,
            "left": null,
            "margin": null,
            "max_height": null,
            "max_width": null,
            "min_height": null,
            "min_width": null,
            "object_fit": null,
            "object_position": null,
            "order": null,
            "overflow": null,
            "overflow_x": null,
            "overflow_y": null,
            "padding": null,
            "right": null,
            "top": null,
            "visibility": null,
            "width": null
          }
        },
        "1484bc235fc44338ab2e9ae61f094cde": {
          "model_module": "@jupyter-widgets/controls",
          "model_name": "ProgressStyleModel",
          "model_module_version": "1.5.0",
          "state": {
            "_model_module": "@jupyter-widgets/controls",
            "_model_module_version": "1.5.0",
            "_model_name": "ProgressStyleModel",
            "_view_count": null,
            "_view_module": "@jupyter-widgets/base",
            "_view_module_version": "1.2.0",
            "_view_name": "StyleView",
            "bar_color": null,
            "description_width": ""
          }
        },
        "efb55ae6f02b402d8627d8c4d14fbce8": {
          "model_module": "@jupyter-widgets/base",
          "model_name": "LayoutModel",
          "model_module_version": "1.2.0",
          "state": {
            "_model_module": "@jupyter-widgets/base",
            "_model_module_version": "1.2.0",
            "_model_name": "LayoutModel",
            "_view_count": null,
            "_view_module": "@jupyter-widgets/base",
            "_view_module_version": "1.2.0",
            "_view_name": "LayoutView",
            "align_content": null,
            "align_items": null,
            "align_self": null,
            "border": null,
            "bottom": null,
            "display": null,
            "flex": null,
            "flex_flow": null,
            "grid_area": null,
            "grid_auto_columns": null,
            "grid_auto_flow": null,
            "grid_auto_rows": null,
            "grid_column": null,
            "grid_gap": null,
            "grid_row": null,
            "grid_template_areas": null,
            "grid_template_columns": null,
            "grid_template_rows": null,
            "height": null,
            "justify_content": null,
            "justify_items": null,
            "left": null,
            "margin": null,
            "max_height": null,
            "max_width": null,
            "min_height": null,
            "min_width": null,
            "object_fit": null,
            "object_position": null,
            "order": null,
            "overflow": null,
            "overflow_x": null,
            "overflow_y": null,
            "padding": null,
            "right": null,
            "top": null,
            "visibility": null,
            "width": null
          }
        },
        "0ded20da56194304aad9d5bb900e96fc": {
          "model_module": "@jupyter-widgets/controls",
          "model_name": "DescriptionStyleModel",
          "model_module_version": "1.5.0",
          "state": {
            "_model_module": "@jupyter-widgets/controls",
            "_model_module_version": "1.5.0",
            "_model_name": "DescriptionStyleModel",
            "_view_count": null,
            "_view_module": "@jupyter-widgets/base",
            "_view_module_version": "1.2.0",
            "_view_name": "StyleView",
            "description_width": ""
          }
        }
      }
    }
  },
  "nbformat": 4,
  "nbformat_minor": 0
}